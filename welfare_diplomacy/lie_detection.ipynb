{
 "cells": [
  {
   "metadata": {},
   "cell_type": "raw",
   "source": "",
   "id": "ab3caa53e1b89d82"
  },
  {
   "metadata": {
    "ExecuteTime": {
     "end_time": "2025-07-26T23:07:26.780225Z",
     "start_time": "2025-07-26T23:07:25.695785Z"
    }
   },
   "cell_type": "code",
   "source": [
    "from langgraph.graph import StateGraph, START, END\n",
    "from typing_extensions import TypedDict, Optional\n",
    "from IPython.display import Image, display\n",
    "\n",
    "\n",
    "# === Minimal state type ===\n",
    "class MessageState(TypedDict):\n",
    "    message: str\n",
    "    is_lie_candidate: Optional[bool]\n",
    "    promises: dict\n",
    "    is_lie: Optional[bool]\n",
    "    editing_context: Optional[str]\n",
    "\n",
    "\n",
    "# === Dummy nodes ===\n",
    "def is_lie_candidate(state: MessageState): return {\"is_lie_candidate\": True}\n",
    "def extract_promises(state: MessageState): return {\"promises\": {\"dummy\": \"value\"}}\n",
    "def lie_evaluator(state: MessageState): return {\"is_lie\": False, \"editing_context\": \"revise this\"}\n",
    "def revise_messages(state: MessageState): return {\"message\": \"revised message\", \"editing_context\": None}\n",
    "\n",
    "# === Router functions ===\n",
    "def candidate_router(state: MessageState):\n",
    "    return \"extract_promises\" if state[\"is_lie_candidate\"] else END\n",
    "\n",
    "def promise_router(state: MessageState):\n",
    "    return \"lie_evaluator\" if state.get(\"promises\") else END\n",
    "\n",
    "def revision_router(state: MessageState):\n",
    "    return \"revise_messages\" if state.get(\"editing_context\") else END\n",
    "\n",
    "\n",
    "# === Build the graph ===\n",
    "graph = StateGraph(MessageState)\n",
    "graph.add_node(\"is_lie_candidate\", is_lie_candidate)\n",
    "graph.add_node(\"extract_promises\", extract_promises)\n",
    "graph.add_node(\"lie_evaluator\", lie_evaluator)\n",
    "graph.add_node(\"revise_messages\", revise_messages)\n",
    "\n",
    "graph.add_edge(START, \"is_lie_candidate\")\n",
    "graph.add_conditional_edges(\"is_lie_candidate\", candidate_router)\n",
    "graph.add_conditional_edges(\"extract_promises\", promise_router)\n",
    "graph.add_conditional_edges(\"lie_evaluator\", revision_router)\n",
    "graph.add_edge(\"revise_messages\", \"is_lie_candidate\")\n",
    "graph.add_edge(\"lie_evaluator\", END)\n",
    "\n",
    "# === Compile and visualize ===\n",
    "runnable = graph.compile()\n",
    "display(Image(runnable.get_graph().draw_mermaid_png()))"
   ],
   "id": "282f47be50b3e27e",
   "outputs": [
    {
     "name": "stderr",
     "output_type": "stream",
     "text": [
      "/opt/anaconda3/envs/wfd/lib/python3.11/site-packages/requests/__init__.py:86: RequestsDependencyWarning: Unable to find acceptable character detection dependency (chardet or charset_normalizer).\n",
      "  warnings.warn(\n"
     ]
    },
    {
     "data": {
      "image/png": "[encoded data removed]",
      "text/plain": [
       "<IPython.core.display.Image object>"
      ]
     },
     "metadata": {},
     "output_type": "display_data"
    }
   ],
   "execution_count": 1
  },
  {
   "metadata": {},
   "cell_type": "code",
   "outputs": [],
   "execution_count": null,
   "source": "",
   "id": "6126520a42542f86"
  }
 ],
 "metadata": {
  "kernelspec": {
   "display_name": "Python 3",
   "language": "python",
   "name": "python3"
  },
  "language_info": {
   "codemirror_mode": {
    "name": "ipython",
    "version": 2
   },
   "file_extension": ".py",
   "mimetype": "text/x-python",
   "name": "python",
   "nbconvert_exporter": "python",
   "pygments_lexer": "ipython2",
   "version": "2.7.6"
  }
 },
 "nbformat": 4,
 "nbformat_minor": 5
}
